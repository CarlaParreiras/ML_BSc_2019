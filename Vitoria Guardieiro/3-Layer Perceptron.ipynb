{
 "cells": [
  {
   "cell_type": "markdown",
   "metadata": {},
   "source": [
    "# 3-Layer Perceptron"
   ]
  },
  {
   "cell_type": "markdown",
   "metadata": {},
   "source": [
    "A ideia é representar a área de um círculo unitário com a união composta de ANDs e ORs de n perceptrons. A imagem abaixo ilustra a representação com $n = 4$ perceptrons:"
   ]
  },
  {
   "cell_type": "markdown",
   "metadata": {},
   "source": [
    "![title](circulocomperceptrons.png)"
   ]
  },
  {
   "cell_type": "markdown",
   "metadata": {},
   "source": [
    "Com esses $n = 4$ perceptrons e o plano em $R^2$, basta fazer uma operação de AND juntando todos os perceptrons, ou seja: \n",
    "\n",
    "$$f = sign(sign(w^T_1x)+sign(w^T_2x)+sign(w^T_3x)+sign(w^T_4x)-3.5)$$\n",
    "\n",
    "já que queremos $f = 1$ se e só se $sign(w^T_1x)+sign(w^T_2x)+...+sign(w^T_nx) = n$."
   ]
  },
  {
   "cell_type": "markdown",
   "metadata": {},
   "source": [
    "Assim, a representação em grafo da fórmula explícita de $f$ é:"
   ]
  },
  {
   "cell_type": "markdown",
   "metadata": {},
   "source": [
    "![title](multilayer.png)"
   ]
  },
  {
   "cell_type": "markdown",
   "metadata": {},
   "source": [
    "Assim, seja $W$ a matriz que contém os perceptrons e $x\\_a = [x_1; x_2]$: "
   ]
  },
  {
   "cell_type": "code",
   "execution_count": 36,
   "metadata": {},
   "outputs": [
    {
     "data": {
      "text/plain": [
       "f (generic function with 1 method)"
      ]
     },
     "execution_count": 36,
     "metadata": {},
     "output_type": "execute_result"
    }
   ],
   "source": [
    "function f(W, x_a)\n",
    "    x = append!([1], x_a)\n",
    "    h1 = W*x\n",
    "    h2 = append!([1], [sign(h1[i]) for i in 1:length(h1)])\n",
    "    h3 = sign(transpose(append!([0.5-size(W,2)], [1 for i in 1:(length(h2)-1)]))*h2)\n",
    "    return h3\n",
    "end"
   ]
  },
  {
   "cell_type": "code",
   "execution_count": 41,
   "metadata": {},
   "outputs": [],
   "source": [
    "using Plots"
   ]
  },
  {
   "cell_type": "code",
   "execution_count": 42,
   "metadata": {},
   "outputs": [
    {
     "data": {
      "text/plain": [
       "3-element Array{Int64,1}:\n",
       " 1\n",
       " 1\n",
       " 1"
      ]
     },
     "execution_count": 42,
     "metadata": {},
     "output_type": "execute_result"
    }
   ],
   "source": [
    "w = [1;1;1]"
   ]
  },
  {
   "cell_type": "code",
   "execution_count": 45,
   "metadata": {},
   "outputs": [
    {
     "ename": "LoadError",
     "evalue": "syntax: extra token \"when\" after end of expression",
     "output_type": "error",
     "traceback": [
      "syntax: extra token \"when\" after end of expression",
      ""
     ]
    }
   ],
   "source": [
    "y = 1\n",
    "x = -(w[1] - w[3]y)/w[2]  \n",
    "x = 0 when y = -w[1]/w[3]  "
   ]
  },
  {
   "cell_type": "code",
   "execution_count": 44,
   "metadata": {},
   "outputs": [
    {
     "ename": "UndefVarError",
     "evalue": "UndefVarError: x not defined",
     "output_type": "error",
     "traceback": [
      "UndefVarError: x not defined",
      "",
      "Stacktrace:",
      " [1] top-level scope at In[44]:1"
     ]
    }
   ],
   "source": [
    "\n",
    "y = -(w[1] - w[2]x)/w[3]\n",
    "y = 0 when x = -w[1]/w[2]  "
   ]
  },
  {
   "cell_type": "code",
   "execution_count": null,
   "metadata": {},
   "outputs": [],
   "source": []
  }
 ],
 "metadata": {
  "kernelspec": {
   "display_name": "Julia 1.1.0",
   "language": "julia",
   "name": "julia-1.1"
  },
  "language_info": {
   "file_extension": ".jl",
   "mimetype": "application/julia",
   "name": "julia",
   "version": "1.1.0"
  }
 },
 "nbformat": 4,
 "nbformat_minor": 2
}
