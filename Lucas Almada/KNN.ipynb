{
 "cells": [
  {
   "cell_type": "code",
   "execution_count": 6,
   "metadata": {},
   "outputs": [],
   "source": [
    "import numpy as np\n",
    "import operator\n",
    "\n",
    "def distance(x , y , d):\n",
    "    dist = 0\n",
    "    for i in range(d):\n",
    "        dist += np.square(x[i] - y[i])\n",
    "    dist_root = np.sqrt(dist)\n",
    "    return dist_root\n",
    "\n",
    "def KNN(treino, teste, k):\n",
    "    \n",
    "    distancia = []\n",
    "    dimensao = len(teste)\n",
    "    \n",
    "    for i in range(len(treino)):\n",
    "        dist = distance(treino[i], teste, dimensao)\n",
    "        distancia.append((treino[i], dist))\n",
    "    distancia.sort(key=operator.itemgetter(1))\n",
    "    \n",
    "    neighbors = []\n",
    "    for j in range(k):\n",
    "        neighbors.append(distancia[j][0])\n",
    "    \n",
    "    ksum = sum(neighbors[i][1] for i in range(len(neighbors)))\n",
    "    return ksum/k\n",
    "    \n",
    "        \n",
    "   # A função abaixo é para o caso de classificação\n",
    "\n",
    "def classification(neighbors):\n",
    "    total = {}\n",
    "    for i in range(len(neighbors)):\n",
    "        resp = neighbors[i][-1]\n",
    "        \n",
    "        if resp in total:\n",
    "            total[resp] += 1\n",
    "        else:\n",
    "            total[resp] = 1\n",
    "    \n",
    "    result = sorted(total.items() , key=lambda t : t[1], reverse=True)\n",
    "    \n",
    "    return(result[0][0], neighbors)   "
   ]
  },
  {
   "cell_type": "code",
   "execution_count": null,
   "metadata": {},
   "outputs": [],
   "source": []
  }
 ],
 "metadata": {
  "kernelspec": {
   "display_name": "Python 3",
   "language": "python",
   "name": "python3"
  },
  "language_info": {
   "codemirror_mode": {
    "name": "ipython",
    "version": 3
   },
   "file_extension": ".py",
   "mimetype": "text/x-python",
   "name": "python",
   "nbconvert_exporter": "python",
   "pygments_lexer": "ipython3",
   "version": "3.7.3"
  }
 },
 "nbformat": 4,
 "nbformat_minor": 2
}
