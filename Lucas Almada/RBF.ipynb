{
 "cells": [
  {
   "cell_type": "code",
   "execution_count": 78,
   "metadata": {},
   "outputs": [],
   "source": [
    "import numpy as np\n",
    "import matplotlib.pyplot as plt\n",
    "\n",
    "class RBF:\n",
    "     \n",
    "    def __init__(self, num_centers):\n",
    "        self.num_centers = num_centers\n",
    "        self.centers = None\n",
    "        self.W = None\n",
    "        self.hidden_shape = 3\n",
    "         \n",
    "\n",
    "    def function_rbf(self,d1, d2):\n",
    "        return np.exp((-1 / 2)  * (d1-d2)**2)\n",
    "    \n",
    "    def calc_matrix(self, X):\n",
    "        M = np.zeros((X.shape[0], self.num_centers), float)\n",
    "        for c_n, c in enumerate(self.centers):\n",
    "            for x_n, x in enumerate(X):\n",
    "                M[x_n,c_n] = self.function_rbf(c, x)\n",
    "        return M\n",
    "\n",
    "    def define_centers(self, X):\n",
    "        random_cent = np.random.choice(len(X), self.hidden_shape)\n",
    "        centers = X[random_cent]\n",
    "        return centers\n",
    "\n",
    "    \n",
    "    def fit(self, X, Y):\n",
    "        self.centers = self.define_centers(X)\n",
    "\n",
    "        M = self.calc_matrix(X)\n",
    "\n",
    "        self.W = np.dot(np.linalg.pinv(M), Y)\n",
    "\n",
    "    def predict(self, X):\n",
    "\n",
    "        M = self.calc_matrix(X)\n",
    "        Y = np.dot(M, self.W)\n",
    "        return Y"
   ]
  },
  {
   "cell_type": "code",
   "execution_count": 79,
   "metadata": {},
   "outputs": [
    {
     "data": {
      "image/png": "[encoded data removed]",
      "text/plain": [
       "<Figure size 432x288 with 1 Axes>"
      ]
     },
     "metadata": {
      "needs_background": "light"
     },
     "output_type": "display_data"
    }
   ],
   "source": [
    "N = 100\n",
    "X = np.random.uniform(0., 1., N)\n",
    "X = np.sort(X, axis=0)\n",
    "y =np.sin(3*(X+0.5)**2 - 1) \n",
    " \n",
    "rbf= RBF(3)\n",
    "rbf.fit(X, y)\n",
    " \n",
    "y_pred = rbf.predict(X)\n",
    " \n",
    "plt.plot(X, y, '-o', label='F-true', color = 'red')\n",
    "plt.plot(X, y_pred, '-o', label='RBF', color = 'blue')\n",
    "plt.legend()\n",
    " \n",
    "plt.tight_layout()\n",
    "plt.show()"
   ]
  },
  {
   "cell_type": "code",
   "execution_count": null,
   "metadata": {},
   "outputs": [],
   "source": []
  }
 ],
 "metadata": {
  "kernelspec": {
   "display_name": "Python 3",
   "language": "python",
   "name": "python3"
  },
  "language_info": {
   "codemirror_mode": {
    "name": "ipython",
    "version": 3
   },
   "file_extension": ".py",
   "mimetype": "text/x-python",
   "name": "python",
   "nbconvert_exporter": "python",
   "pygments_lexer": "ipython3",
   "version": "3.7.3"
  }
 },
 "nbformat": 4,
 "nbformat_minor": 2
}
