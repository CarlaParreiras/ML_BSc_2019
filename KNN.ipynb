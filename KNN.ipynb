{
 "cells": [
  {
   "cell_type": "markdown",
   "metadata": {},
   "source": [
    "# Regressão k-NN"
   ]
  },
  {
   "cell_type": "markdown",
   "metadata": {},
   "source": [
    "## 1. Sem condensation"
   ]
  },
  {
   "cell_type": "code",
   "execution_count": 4,
   "metadata": {},
   "outputs": [
    {
     "data": {
      "text/plain": [
       "predict (generic function with 1 method)"
      ]
     },
     "execution_count": 4,
     "metadata": {},
     "output_type": "execute_result"
    }
   ],
   "source": [
    "function predict(X_train, y_train, x_test, k)\n",
    "    # create list for distances and targets\n",
    "    distances = []\n",
    "    sum_y = 0\n",
    "    for i in 1:size(X_train)[1]\n",
    "        # first we compute the euclidean distance\n",
    "        distance = (sum((x_test[j] - X_train[i, j])^2 for j in 1:length(x_test)))^0.5\n",
    "        # add it to list of distances\n",
    "        push!(distances, [distance, i])\n",
    "    end\n",
    "\n",
    "    # sort the list\n",
    "    sort!(distances, by = x -> x[1])\n",
    "\n",
    "    # make a list of the k neighbors' targets\n",
    "    for i in 1:k\n",
    "        index = convert(Int, distances[i][2])[1]\n",
    "        sum_y += y_train[index]\n",
    "    end\n",
    "\n",
    "    # return mean of closest y\n",
    "    return sum_y/k\n",
    "end"
   ]
  },
  {
   "cell_type": "code",
   "execution_count": 5,
   "metadata": {},
   "outputs": [
    {
     "data": {
      "text/plain": [
       "kNearestNeighbor (generic function with 1 method)"
      ]
     },
     "execution_count": 5,
     "metadata": {},
     "output_type": "execute_result"
    }
   ],
   "source": [
    "function kNearestNeighbor(X_train, y_train, X_test, k)\n",
    "    predictions = []\n",
    "    \n",
    "    # check if k larger than n\n",
    "    if k > length(X_train)\n",
    "        println(\"O número de pontos deve ser maior que k\")\n",
    "        return \n",
    "    end\n",
    "\n",
    "    # predict for each testing observation\n",
    "    for i in 1:size(X_test)[1]\n",
    "        append!(predictions, predict(X_train, y_train, X_test[i, :], k))\n",
    "    end\n",
    "    return predictions\n",
    "end"
   ]
  },
  {
   "cell_type": "code",
   "execution_count": 6,
   "metadata": {},
   "outputs": [
    {
     "data": {
      "text/plain": [
       "10×2 Array{Float64,2}:\n",
       " 5.0   45.0\n",
       " 5.11  26.0\n",
       " 5.6   30.0\n",
       " 5.9   34.0\n",
       " 4.8   40.0\n",
       " 5.8   36.0\n",
       " 5.3   19.0\n",
       " 5.8   28.0\n",
       " 5.5   23.0\n",
       " 5.6   32.0"
      ]
     },
     "execution_count": 6,
     "metadata": {},
     "output_type": "execute_result"
    }
   ],
   "source": [
    "X_train = [[5 45];[5.11 26]; [5.6 30]; [5.9 34]; [4.8 40]; [5.8 36]; [5.3 19];\n",
    "            [5.8 28]; [5.5 23]; [5.6 32]]"
   ]
  },
  {
   "cell_type": "code",
   "execution_count": 7,
   "metadata": {},
   "outputs": [
    {
     "data": {
      "text/plain": [
       "10-element Array{Int64,1}:\n",
       " 77\n",
       " 47\n",
       " 55\n",
       " 59\n",
       " 72\n",
       " 60\n",
       " 40\n",
       " 60\n",
       " 45\n",
       " 58"
      ]
     },
     "execution_count": 7,
     "metadata": {},
     "output_type": "execute_result"
    }
   ],
   "source": [
    "Y_train = [77; 47; 55; 59; 72; 60; 40; 60; 45; 58]"
   ]
  },
  {
   "cell_type": "code",
   "execution_count": 8,
   "metadata": {},
   "outputs": [
    {
     "data": {
      "text/plain": [
       "1×2 Array{Float64,2}:\n",
       " 5.5  38.0"
      ]
     },
     "execution_count": 8,
     "metadata": {},
     "output_type": "execute_result"
    }
   ],
   "source": [
    "X_test = [5.5 38]"
   ]
  },
  {
   "cell_type": "code",
   "execution_count": 9,
   "metadata": {},
   "outputs": [
    {
     "data": {
      "text/plain": [
       "1-element Array{Any,1}:\n",
       " 63.6667"
      ]
     },
     "execution_count": 9,
     "metadata": {},
     "output_type": "execute_result"
    }
   ],
   "source": [
    "kNearestNeighbor(X_train, Y_train, X_test, 3)"
   ]
  },
  {
   "cell_type": "markdown",
   "metadata": {},
   "source": [
    "## 2. Com condensation"
   ]
  },
  {
   "cell_type": "code",
   "execution_count": null,
   "metadata": {},
   "outputs": [],
   "source": []
  },
  {
   "cell_type": "code",
   "execution_count": null,
   "metadata": {},
   "outputs": [],
   "source": []
  },
  {
   "cell_type": "markdown",
   "metadata": {},
   "source": [
    "## 3. K-means"
   ]
  },
  {
   "cell_type": "code",
   "execution_count": 10,
   "metadata": {},
   "outputs": [
    {
     "data": {
      "text/plain": [
       "kmeans (generic function with 3 methods)"
      ]
     },
     "execution_count": 10,
     "metadata": {},
     "output_type": "execute_result"
    }
   ],
   "source": [
    "function kmeans(X, k, max_iter = 100, threshold = 0.001)\n",
    "\n",
    "    # Let's pick k points from X without replacment\n",
    "    centroids = X[:, sample(1:size(X,2), k, replace = false)]\n",
    "\n",
    "    # create a copy. This is used to check if the centroids are moving or not.\n",
    "    new_centroids = copy(centroids)\n",
    "\n",
    "    # start an empty array for our cluster ids. This will hold the cluster assignment\n",
    "    # for each point in X\n",
    "    cluster_ids = Array{Int32}(size(X,2))\n",
    "\n",
    "    for i in 1:max_iter # I use _ here as we're not using this variable inside the loop\n",
    "        for col_idx in 1:size(X, 2) # iterate over each point\n",
    "\n",
    "            # let's index the ponts one by one\n",
    "            p = X[:, col_idx]\n",
    "\n",
    "            # calculate the distance between the point and each centroid\n",
    "            point_difference = mapslices(x -> x - p, centroids, 1)\n",
    "\n",
    "            # we calculate the squared Euclidian distance\n",
    "            distances = mapslices(sum, point_difference .^ 2, 1)\n",
    "\n",
    "            # now find the index of the closest centroid\n",
    "            cluster_ids[col_idx] = findmin(distances)[2]\n",
    "        end\n",
    "\n",
    "        # Iterate over each centroid\n",
    "        for cluster_id in 1:size(centroids, 2)\n",
    "\n",
    "            # find the mean of the assigned points for that particluar cluster\n",
    "            new_centroids[:, cluster_id] = mapslices(mean, X[:, cluster_id .== cluster_ids], 2)\n",
    "        end\n",
    "\n",
    "        # now measure the total distance that the centroids moved\n",
    "        center_change = sum(mapslices(x -> sum(x.^2), new_centroids .- centroids, 2))\n",
    "\n",
    "        centroids = copy(new_centroids)\n",
    "\n",
    "        # if the centroids move negligably, then we're done\n",
    "        if center_change < threshold\n",
    "            # println(i)\n",
    "            break\n",
    "        end\n",
    "    end\n",
    "\n",
    "    # we'll send back both the location of the centroids as well as the cluster ids for each point\n",
    "    return centroids, cluster_ids\n",
    "end"
   ]
  },
  {
   "cell_type": "code",
   "execution_count": 11,
   "metadata": {},
   "outputs": [
    {
     "data": {
      "text/plain": [
       "RBFNetwork (generic function with 1 method)"
      ]
     },
     "execution_count": 11,
     "metadata": {},
     "output_type": "execute_result"
    }
   ],
   "source": [
    "function RBFNetwork(X_train, Y_train, k, r)\n",
    "    \n",
    "    # get centroids with kmeans\n",
    "    centroids = kmeans(X_train, k)[:,1]\n",
    "    \n",
    "    G = zeros(size(X_train)[1], k+1)\n",
    "    \n",
    "    for i in 1:size(X_train)[1]\n",
    "        G[i,1] = 1\n",
    "        for j in 1:k\n",
    "            dist = (sum((centroids[j,k] - X_train[i,k])^2 for k in 1:size(X_train)[2]))^0.5\n",
    "            G[i,j+1] = exp(-((dist/r)^2)/2)\n",
    "        end\n",
    "    end\n",
    "    \n",
    "    w = inv(transpose(G)*G)*transpose(G)*Y_train\n",
    "    return w\n",
    "end"
   ]
  },
  {
   "cell_type": "code",
   "execution_count": 12,
   "metadata": {},
   "outputs": [],
   "source": [
    "using RDatasets"
   ]
  },
  {
   "cell_type": "code",
   "execution_count": 20,
   "metadata": {},
   "outputs": [
    {
     "data": {
      "text/html": [
       "<table class=\"data-frame\"><thead><tr><th></th><th>Package</th><th>Dataset</th><th>Title</th><th>Rows</th><th>Columns</th></tr></thead><tbody><tr><th>1</th><td>car</td><td>CanPop</td><td>Canadian Population Data</td><td>16</td><td>2</td></tr><tr><th>2</th><td>car</td><td>Sahlins</td><td>Agricultural Production in Mazulu Village</td><td>20</td><td>2</td></tr><tr><th>3</th><td>car</td><td>USPop</td><td>Population of the United States</td><td>22</td><td>2</td></tr><tr><th>4</th><td>car</td><td>Friendly</td><td>Format Effects on Recall</td><td>30</td><td>2</td></tr><tr><th>5</th><td>car</td><td>Mandel</td><td>Contrived Collinear Data</td><td>8</td><td>3</td></tr><tr><th>6</th><td>car</td><td>Guyer</td><td>Anonymity and Cooperation</td><td>20</td><td>3</td></tr><tr><th>7</th><td>car</td><td>Burt</td><td>Fraudulent Data on IQs of Twins Raised Apart</td><td>27</td><td>3</td></tr><tr><th>8</th><td>car</td><td>Adler</td><td>Experimenter Expectations</td><td>97</td><td>3</td></tr><tr><th>9</th><td>car</td><td>UN</td><td>GDP and Infant Mortality</td><td>207</td><td>3</td></tr><tr><th>10</th><td>car</td><td>Transact</td><td>Transaction data</td><td>261</td><td>3</td></tr><tr><th>11</th><td>car</td><td>Wool</td><td>Wool data</td><td>27</td><td>4</td></tr><tr><th>12</th><td>car</td><td>Moore</td><td>Status, Authoritarianism, and Conformity</td><td>45</td><td>4</td></tr><tr><th>13</th><td>car</td><td>Robey</td><td>Fertility and Contraception</td><td>50</td><td>4</td></tr><tr><th>14</th><td>car</td><td>Ornstein</td><td>Interlocking Directorates Among Major Canadian Firms</td><td>248</td><td>4</td></tr><tr><th>15</th><td>car</td><td>Womenlf</td><td>Canadian Women's Labour-Force Participation</td><td>263</td><td>4</td></tr><tr><th>16</th><td>car</td><td>Blackmore</td><td>Exercise Histories of Eating-Disordered and Control Subjects</td><td>945</td><td>4</td></tr><tr><th>17</th><td>car</td><td>Cowles</td><td>Cowles and Davis's Data on Volunteering</td><td>1421</td><td>4</td></tr><tr><th>18</th><td>car</td><td>AMSsurvey</td><td>American Math Society Survey Data</td><td>24</td><td>5</td></tr><tr><th>19</th><td>car</td><td>Chirot</td><td>The 1907 Romanian Peasant Rebellion</td><td>32</td><td>5</td></tr><tr><th>20</th><td>car</td><td>Angell</td><td>Moral Integration of American Cities</td><td>43</td><td>5</td></tr><tr><th>21</th><td>car</td><td>Duncan</td><td>Duncan's Occupational Prestige Data</td><td>45</td><td>5</td></tr><tr><th>22</th><td>car</td><td>Anscombe</td><td>U. S. State Public-School Expenditures</td><td>51</td><td>5</td></tr><tr><th>23</th><td>car</td><td>Leinhardt</td><td>Data on Infant-Mortality</td><td>105</td><td>5</td></tr><tr><th>24</th><td>car</td><td>Freedman</td><td>Crowding and Crime in U. S. Metropolitan Areas</td><td>110</td><td>5</td></tr><tr><th>25</th><td>car</td><td>Davis</td><td>Self-Reports of Height and Weight</td><td>200</td><td>5</td></tr><tr><th>26</th><td>car</td><td>Depredations</td><td>Minnesota Wolf Depredation Data</td><td>434</td><td>5</td></tr><tr><th>27</th><td>car</td><td>SLID</td><td>Survey of Labour and Income Dynamics</td><td>7425</td><td>5</td></tr><tr><th>28</th><td>car</td><td>Vocab</td><td>Vocabulary and Education</td><td>21638</td><td>5</td></tr><tr><th>29</th><td>car</td><td>Quartet</td><td>Four Regression Datasets</td><td>11</td><td>6</td></tr><tr><th>30</th><td>car</td><td>Pottery</td><td>Chemical Composition of Pottery</td><td>26</td><td>6</td></tr><tr><th>&vellip;</th><td>&vellip;</td><td>&vellip;</td><td>&vellip;</td><td>&vellip;</td><td>&vellip;</td></tr></tbody></table>"
      ],
      "text/plain": [
       "48×5 DataFrames.DataFrame. Omitted printing of 3 columns\n",
       "│ Row │ Package │ Dataset      │\n",
       "├─────┼─────────┼──────────────┤\n",
       "│ 1   │ car     │ CanPop       │\n",
       "│ 2   │ car     │ Sahlins      │\n",
       "│ 3   │ car     │ USPop        │\n",
       "│ 4   │ car     │ Friendly     │\n",
       "│ 5   │ car     │ Mandel       │\n",
       "│ 6   │ car     │ Guyer        │\n",
       "│ 7   │ car     │ Burt         │\n",
       "│ 8   │ car     │ Adler        │\n",
       "│ 9   │ car     │ UN           │\n",
       "│ 10  │ car     │ Transact     │\n",
       "│ 11  │ car     │ Wool         │\n",
       "⋮\n",
       "│ 37  │ car     │ DavisThin    │\n",
       "│ 38  │ car     │ Greene       │\n",
       "│ 39  │ car     │ Hartnagel    │\n",
       "│ 40  │ car     │ States       │\n",
       "│ 41  │ car     │ Migration    │\n",
       "│ 42  │ car     │ Mroz         │\n",
       "│ 43  │ car     │ Chile        │\n",
       "│ 44  │ car     │ Ericksen     │\n",
       "│ 45  │ car     │ Highway1     │\n",
       "│ 46  │ car     │ Florida      │\n",
       "│ 47  │ car     │ Soils        │\n",
       "│ 48  │ car     │ OBrienKaiser │"
      ]
     },
     "metadata": {},
     "output_type": "display_data"
    }
   ],
   "source": [
    "carData = RDatasets.datasets(\"car\");\n",
    "display(sort!(carData, :Columns));"
   ]
  },
  {
   "cell_type": "code",
   "execution_count": 24,
   "metadata": {},
   "outputs": [
    {
     "data": {
      "text/html": [
       "<table class=\"data-frame\"><thead><tr><th></th><th>Nation</th><th>Income</th><th>Infant</th><th>Region</th><th>Oil</th></tr></thead><tbody><tr><th>1</th><td>Australia</td><td>3426</td><td>26.7</td><td>Asia</td><td>no</td></tr><tr><th>2</th><td>Austria</td><td>3350</td><td>23.7</td><td>Europe</td><td>no</td></tr><tr><th>3</th><td>Belgium</td><td>3346</td><td>17.0</td><td>Europe</td><td>no</td></tr><tr><th>4</th><td>Canada</td><td>4751</td><td>16.8</td><td>Americas</td><td>no</td></tr><tr><th>5</th><td>Denmark</td><td>5029</td><td>13.5</td><td>Europe</td><td>no</td></tr><tr><th>6</th><td>Finland</td><td>3312</td><td>10.1</td><td>Europe</td><td>no</td></tr><tr><th>7</th><td>France</td><td>3403</td><td>12.9</td><td>Europe</td><td>no</td></tr><tr><th>8</th><td>West.Germany</td><td>5040</td><td>20.4</td><td>Europe</td><td>no</td></tr><tr><th>9</th><td>Ireland</td><td>2009</td><td>17.8</td><td>Europe</td><td>no</td></tr><tr><th>10</th><td>Italy</td><td>2298</td><td>25.7</td><td>Europe</td><td>no</td></tr><tr><th>11</th><td>Japan</td><td>3292</td><td>11.7</td><td>Europe</td><td>no</td></tr><tr><th>12</th><td>Netherlands</td><td>4103</td><td>11.6</td><td>Europe</td><td>no</td></tr><tr><th>13</th><td>New.Zealand</td><td>3723</td><td>16.2</td><td>Asia</td><td>no</td></tr><tr><th>14</th><td>Norway</td><td>4102</td><td>11.3</td><td>Europe</td><td>no</td></tr><tr><th>15</th><td>Portugal</td><td>956</td><td>44.8</td><td>Europe</td><td>no</td></tr><tr><th>16</th><td>South.Africa</td><td>1000</td><td>71.5</td><td>Africa</td><td>no</td></tr><tr><th>17</th><td>Sweden</td><td>5596</td><td>9.6</td><td>Europe</td><td>no</td></tr><tr><th>18</th><td>Switzerland</td><td>2963</td><td>12.8</td><td>Europe</td><td>no</td></tr><tr><th>19</th><td>Britain</td><td>2503</td><td>17.5</td><td>Europe</td><td>no</td></tr><tr><th>20</th><td>United.States</td><td>5523</td><td>17.6</td><td>Americas</td><td>no</td></tr><tr><th>21</th><td>Algeria</td><td>400</td><td>86.3</td><td>Africa</td><td>yes</td></tr><tr><th>22</th><td>Ecuador</td><td>250</td><td>78.5</td><td>Americas</td><td>yes</td></tr><tr><th>23</th><td>Indonesia</td><td>110</td><td>125.0</td><td>Asia</td><td>yes</td></tr><tr><th>24</th><td>Iran</td><td>1280</td><td>missing</td><td>Asia</td><td>yes</td></tr><tr><th>25</th><td>Iraq</td><td>560</td><td>28.1</td><td>Asia</td><td>yes</td></tr><tr><th>26</th><td>Libya</td><td>3010</td><td>300.0</td><td>Africa</td><td>yes</td></tr><tr><th>27</th><td>Nigeria</td><td>220</td><td>58.0</td><td>Africa</td><td>yes</td></tr><tr><th>28</th><td>Saudi.Arabia</td><td>1530</td><td>650.0</td><td>Asia</td><td>yes</td></tr><tr><th>29</th><td>Venezuela</td><td>1240</td><td>51.7</td><td>Americas</td><td>yes</td></tr><tr><th>30</th><td>Argentina</td><td>1191</td><td>59.6</td><td>Americas</td><td>no</td></tr><tr><th>&vellip;</th><td>&vellip;</td><td>&vellip;</td><td>&vellip;</td><td>&vellip;</td><td>&vellip;</td></tr></tbody></table>"
      ],
      "text/plain": [
       "105×5 DataFrames.DataFrame\n",
       "│ Row │ Nation         │ Income │ Infant │ Region   │ Oil │\n",
       "├─────┼────────────────┼────────┼────────┼──────────┼─────┤\n",
       "│ 1   │ Australia      │ 3426   │ 26.7   │ Asia     │ no  │\n",
       "│ 2   │ Austria        │ 3350   │ 23.7   │ Europe   │ no  │\n",
       "│ 3   │ Belgium        │ 3346   │ 17.0   │ Europe   │ no  │\n",
       "│ 4   │ Canada         │ 4751   │ 16.8   │ Americas │ no  │\n",
       "│ 5   │ Denmark        │ 5029   │ 13.5   │ Europe   │ no  │\n",
       "│ 6   │ Finland        │ 3312   │ 10.1   │ Europe   │ no  │\n",
       "│ 7   │ France         │ 3403   │ 12.9   │ Europe   │ no  │\n",
       "│ 8   │ West.Germany   │ 5040   │ 20.4   │ Europe   │ no  │\n",
       "│ 9   │ Ireland        │ 2009   │ 17.8   │ Europe   │ no  │\n",
       "│ 10  │ Italy          │ 2298   │ 25.7   │ Europe   │ no  │\n",
       "│ 11  │ Japan          │ 3292   │ 11.7   │ Europe   │ no  │\n",
       "⋮\n",
       "│ 94  │ Rwanda         │ 61     │ 132.9  │ Africa   │ no  │\n",
       "│ 95  │ Sierra.Leone   │ 148    │ 170.0  │ Africa   │ no  │\n",
       "│ 96  │ Somalia        │ 85     │ 158.0  │ Africa   │ no  │\n",
       "│ 97  │ Sri.Lanka      │ 162    │ 45.1   │ Asia     │ no  │\n",
       "│ 98  │ Sudan          │ 125    │ 129.4  │ Africa   │ no  │\n",
       "│ 99  │ Tanzania       │ 120    │ 162.5  │ Africa   │ no  │\n",
       "│ 100 │ Togo           │ 160    │ 127.0  │ Africa   │ no  │\n",
       "│ 101 │ Uganda         │ 134    │ 160.0  │ Africa   │ no  │\n",
       "│ 102 │ Upper.Volta    │ 82     │ 180.0  │ Africa   │ no  │\n",
       "│ 103 │ Southern.Yemen │ 96     │ 80.0   │ Asia     │ no  │\n",
       "│ 104 │ Yemen          │ 77     │ 50.0   │ Asia     │ no  │\n",
       "│ 105 │ Zaire          │ 118    │ 104.0  │ Africa   │ no  │"
      ]
     },
     "execution_count": 24,
     "metadata": {},
     "output_type": "execute_result"
    }
   ],
   "source": [
    "Leinhardt = RDatasets.dataset(\"car\",\"Leinhardt\")"
   ]
  },
  {
   "cell_type": "code",
   "execution_count": 27,
   "metadata": {},
   "outputs": [
    {
     "data": {
      "text/html": [
       "<table class=\"data-frame\"><thead><tr><th></th><th>Income</th><th>Infant</th></tr></thead><tbody><tr><th>1</th><td>3426</td><td>26.7</td></tr><tr><th>2</th><td>3350</td><td>23.7</td></tr><tr><th>3</th><td>3346</td><td>17.0</td></tr><tr><th>4</th><td>4751</td><td>16.8</td></tr><tr><th>5</th><td>5029</td><td>13.5</td></tr><tr><th>6</th><td>3312</td><td>10.1</td></tr><tr><th>7</th><td>3403</td><td>12.9</td></tr><tr><th>8</th><td>5040</td><td>20.4</td></tr><tr><th>9</th><td>2009</td><td>17.8</td></tr><tr><th>10</th><td>2298</td><td>25.7</td></tr><tr><th>11</th><td>3292</td><td>11.7</td></tr><tr><th>12</th><td>4103</td><td>11.6</td></tr><tr><th>13</th><td>3723</td><td>16.2</td></tr><tr><th>14</th><td>4102</td><td>11.3</td></tr><tr><th>15</th><td>956</td><td>44.8</td></tr><tr><th>16</th><td>1000</td><td>71.5</td></tr><tr><th>17</th><td>5596</td><td>9.6</td></tr><tr><th>18</th><td>2963</td><td>12.8</td></tr><tr><th>19</th><td>2503</td><td>17.5</td></tr><tr><th>20</th><td>5523</td><td>17.6</td></tr><tr><th>21</th><td>400</td><td>86.3</td></tr><tr><th>22</th><td>250</td><td>78.5</td></tr><tr><th>23</th><td>110</td><td>125.0</td></tr><tr><th>24</th><td>1280</td><td>missing</td></tr><tr><th>25</th><td>560</td><td>28.1</td></tr><tr><th>26</th><td>3010</td><td>300.0</td></tr><tr><th>27</th><td>220</td><td>58.0</td></tr><tr><th>28</th><td>1530</td><td>650.0</td></tr><tr><th>29</th><td>1240</td><td>51.7</td></tr><tr><th>30</th><td>1191</td><td>59.6</td></tr><tr><th>&vellip;</th><td>&vellip;</td><td>&vellip;</td></tr></tbody></table>"
      ],
      "text/plain": [
       "105×2 DataFrames.DataFrame\n",
       "│ Row │ Income │ Infant │\n",
       "├─────┼────────┼────────┤\n",
       "│ 1   │ 3426   │ 26.7   │\n",
       "│ 2   │ 3350   │ 23.7   │\n",
       "│ 3   │ 3346   │ 17.0   │\n",
       "│ 4   │ 4751   │ 16.8   │\n",
       "│ 5   │ 5029   │ 13.5   │\n",
       "│ 6   │ 3312   │ 10.1   │\n",
       "│ 7   │ 3403   │ 12.9   │\n",
       "│ 8   │ 5040   │ 20.4   │\n",
       "│ 9   │ 2009   │ 17.8   │\n",
       "│ 10  │ 2298   │ 25.7   │\n",
       "│ 11  │ 3292   │ 11.7   │\n",
       "⋮\n",
       "│ 94  │ 61     │ 132.9  │\n",
       "│ 95  │ 148    │ 170.0  │\n",
       "│ 96  │ 85     │ 158.0  │\n",
       "│ 97  │ 162    │ 45.1   │\n",
       "│ 98  │ 125    │ 129.4  │\n",
       "│ 99  │ 120    │ 162.5  │\n",
       "│ 100 │ 160    │ 127.0  │\n",
       "│ 101 │ 134    │ 160.0  │\n",
       "│ 102 │ 82     │ 180.0  │\n",
       "│ 103 │ 96     │ 80.0   │\n",
       "│ 104 │ 77     │ 50.0   │\n",
       "│ 105 │ 118    │ 104.0  │"
      ]
     },
     "execution_count": 27,
     "metadata": {},
     "output_type": "execute_result"
    }
   ],
   "source": [
    "Leinhardt[:, 2:3]"
   ]
  },
  {
   "cell_type": "code",
   "execution_count": null,
   "metadata": {},
   "outputs": [],
   "source": []
  }
 ],
 "metadata": {
  "kernelspec": {
   "display_name": "Julia 0.6.4",
   "language": "julia",
   "name": "julia-0.6"
  },
  "language_info": {
   "file_extension": ".jl",
   "mimetype": "application/julia",
   "name": "julia",
   "version": "0.6.4"
  }
 },
 "nbformat": 4,
 "nbformat_minor": 2
}
